{
 "cells": [
  {
   "attachments": {},
   "cell_type": "markdown",
   "metadata": {},
   "source": [
    "#   Operadores\n",
    "\n",
    "Na programação, operadores são símbolos que instruem o interpretador a realizar manipulações matemáticas, lógicas e de comparação específicas. Portanto, podemos utilizar operadores para auxiliar ou resolver qualquer lógica exigida no código. A seguir, vamos explorar quais operadores existem em Python.\n",
    "\n",
    "\n",
    "[1. Operadores aritméticos](#opArit)\n",
    "<br>\n",
    "\n",
    "[2. Operadores de atribuição](#opAtri)\n",
    "<br>\n",
    "\n",
    "[3. Operadores de comparação](#opComp)\n",
    "<br>\n",
    "\n",
    "[4. Operadores lógicos](#opLogi)\n",
    "<br>\n",
    "\n",
    "[5. Operadores de identidade](#opIdent)\n",
    "<br>\n",
    "\n",
    "[6. Operadores de associação](#opAsso)\n"
   ]
  },
  {
   "attachments": {},
   "cell_type": "markdown",
   "metadata": {},
   "source": [
    "# 1. Operadores aritméticos.<a name=\"opArit\"></a>\n",
    "\n",
    "Assim como na matemática, podemos realizar operações de soma, subtração, divisão e outras. Em Python, também temos essa possibilidade de realizar diversas operações. Essas operações são essenciais para realizar cálculos e manipulações matemáticas em programas.\n",
    "\n",
    "Abaixo está a tabela com todos os operadores aritméticos disponíveis.\n",
    "\n",
    "| Operador               | Símbolo | Descrição                                                                  |\n",
    "|------------------------|---------|----------------------------------------------------------------------------|\n",
    "| Adição                 | +       | Realiza a adição de dois valores ou concatenação de duas sequências.       |\n",
    "| Subtração              | -       | Realiza a subtração de dois valores.                                        |\n",
    "| Multiplicação          | *       | Realiza a multiplicação de dois valores ou duplica uma sequência.          |\n",
    "| Divisão                | /       | Realiza a divisão de dois valores.                                          |\n",
    "| Divisão inteira        | //      | Realiza a divisão de dois valores e retorna a parte inteira do resultado.   |\n",
    "| Resto da divisão       | %       | Retorna o resto da divisão entre dois valores.                              |\n",
    "| Exponenciação          | **      | Realiza a exponenciação de um valor pelo outro.                             |"
   ]
  },
  {
   "attachments": {},
   "cell_type": "markdown",
   "metadata": {},
   "source": [
    "<h5>Neste primeiro exemplo, iremos explorar as operações de adição e subtração. Veremos como realizar essas operações em Python</h5>\n",
    "\n",
    "Dica: A função \"print()\" é utilizada para exibir textos que auxiliam no entendimento do conteúdo. O resultado da operação será exibido na linha seguinte.\n",
    "Nos exemplos a seguir, utilizaremos os números 5 e 2.\n"
   ]
  },
  {
   "cell_type": "code",
   "execution_count": 1,
   "metadata": {},
   "outputs": [
    {
     "name": "stdout",
     "output_type": "stream",
     "text": [
      "Resultado da Adição: \n",
      "7\n",
      "Resultado da Subtração: \n",
      "3\n"
     ]
    }
   ],
   "source": [
    "print(\"Resultado da Adição: \");\n",
    "print ( 5 + 2 )\n",
    "\n",
    "\n",
    "print(\"Resultado da Subtração: \");\n",
    "print ( 5 - 2 )"
   ]
  },
  {
   "attachments": {},
   "cell_type": "markdown",
   "metadata": {},
   "source": [
    "___________"
   ]
  },
  {
   "attachments": {},
   "cell_type": "markdown",
   "metadata": {},
   "source": [
    "<h5>Agora vamos explorar as operações de multiplicação, divisão e exponenciação em Python. São operações simples, mas muito úteis.</h5>"
   ]
  },
  {
   "cell_type": "code",
   "execution_count": 2,
   "metadata": {},
   "outputs": [
    {
     "name": "stdout",
     "output_type": "stream",
     "text": [
      "Resultado da Multiplicação: \n",
      "10\n",
      "Resultado da Divisão: \n",
      "2.5\n",
      "Resultado da Exponenciação: \n",
      "25\n"
     ]
    }
   ],
   "source": [
    "print(\"Resultado da Multiplicação: \")\n",
    "print ( 5 * 2 )\n",
    "\n",
    "\n",
    "print(\"Resultado da Divisão: \")\n",
    "print ( 5 / 2)\n",
    "\n",
    "\n",
    "print(\"Resultado da Exponenciação: \")\n",
    "print (5 ** 2)"
   ]
  },
  {
   "attachments": {},
   "cell_type": "markdown",
   "metadata": {},
   "source": [
    "___________"
   ]
  },
  {
   "attachments": {},
   "cell_type": "markdown",
   "metadata": {},
   "source": [
    "<h5>Vejamos o restante das operações.</h5>"
   ]
  },
  {
   "cell_type": "code",
   "execution_count": 2,
   "metadata": {},
   "outputs": [
    {
     "name": "stdout",
     "output_type": "stream",
     "text": [
      "Resultado do Resto da divisão: \n",
      "1\n",
      "Resultado da Divisão Inteira: \n",
      "3\n"
     ]
    }
   ],
   "source": [
    "print(\"Resultado do Resto da divisão: \")\n",
    "print ( 7 % 2)\n",
    "\n",
    "print(\"Resultado da Divisão Inteira: \")\n",
    "print ( 7 // 2)"
   ]
  },
  {
   "attachments": {},
   "cell_type": "markdown",
   "metadata": {},
   "source": [
    "Para essas duas operações, talvez uma imagem ajude. \n",
    "\n",
    "Nesse exemplo da divisão de 7/2, o resto da divisão é o que fica à esquerda e a divisão inteira à direita.\n",
    "![explicação](http://www.vision.ime.usp.br/~pmiranda/mac0115_2s20/aulas/P1/ex_div.png =400x400)"
   ]
  },
  {
   "attachments": {},
   "cell_type": "markdown",
   "metadata": {},
   "source": [
    "___________"
   ]
  },
  {
   "attachments": {},
   "cell_type": "markdown",
   "metadata": {},
   "source": [
    "<h5>Assim como você aprendeu no ensino fundamental, é possível definir uma ordem de execução nas operações matemáticas. No Python, também podemos fazer isso da mesma forma, utilizando parênteses para indicar a prioridade das operações. Vamos analisar as diferenças usando o exemplo abaixo:</h5>"
   ]
  },
  {
   "cell_type": "code",
   "execution_count": 4,
   "metadata": {},
   "outputs": [
    {
     "name": "stdout",
     "output_type": "stream",
     "text": [
      "Resultado ANTES de definir uma ordem de prioridade: \n",
      "13\n",
      "Resultado APÓS definir uma ordem de prioridade: \n",
      "28\n"
     ]
    }
   ],
   "source": [
    "print (\"Resultado ANTES de definir uma ordem de prioridade: \")\n",
    "print ( 5 + 2 * 4 )\n",
    "\n",
    "\n",
    "print (\"Resultado APÓS definir uma ordem de prioridade: \")\n",
    "print ( (5 + 2) * 4 )"
   ]
  },
  {
   "attachments": {},
   "cell_type": "markdown",
   "metadata": {},
   "source": [
    "Isso ocorre porque, antes de definir a prioridade, a multiplicação 2 * 4 é realizada primeiro e, após a definição, a soma 5 + 2 é a primeira a ser executada.  \n",
    "______\n",
    "\n",
    "\n",
    "<h5>Conclusão do Capítulo: </h5>\n",
    "Neste tópico, pudemos visualizar um exemplo de todas as operações aritméticas possíveis de serem realizadas. Além disso, aprendemos como definir a prioridade dessas operações, determinando a ordem em que elas serão executadas. Com isso, temos o controle sobre a sequência de cálculos, garantindo que sejam realizados na ordem desejada.\n",
    "\n"
   ]
  },
  {
   "attachments": {},
   "cell_type": "markdown",
   "metadata": {},
   "source": [
    "___________"
   ]
  },
  {
   "attachments": {},
   "cell_type": "markdown",
   "metadata": {},
   "source": [
    "# 2. Operadores de atribuição.<a name=\"opAtri\"></a>\n",
    "Os operadores de atribuição atribuem valor a uma variável e também podem acrescentar ou diminuir valores dessa atribuição, veja alguns exemplos de atribuidores abaixo.  \n",
    "\n",
    "\n",
    "\n",
    "| Operador               | Símbolo | Descrição                                                                  |\n",
    "|------------------------|---------|----------------------------------------------------------------------------|\n",
    "| Atribuição             | =       | Atribui um valor a uma variável.                                            |\n",
    "| Adição e atribuição    | +=      | Realiza a adição entre duas variáveis e atribui o resultado à primeira.     |\n",
    "| Subtração e atribuição | -=      | Realiza a subtração entre duas variáveis e atribui o resultado à primeira.  |\n",
    "| Multiplicação e atribuição | *=   | Realiza a multiplicação entre duas variáveis e atribui o resultado à primeira. |\n",
    "| Divisão e atribuição   | /=      | Realiza a divisão entre duas variáveis e atribui o resultado à primeira.    |\n",
    "| Divisão inteira e atribuição | //= | Realiza a divisão inteira entre duas variáveis e atribui o resultado à primeira. |\n",
    "| Resto da divisão e atribuição | %=  | Calcula o resto da divisão entre duas variáveis e atribui o resultado à primeira. |\n",
    "| Exponenciação e atribuição | **=  | Realiza a exponenciação entre duas variáveis e atribui o resultado à primeira. |"
   ]
  },
  {
   "attachments": {},
   "cell_type": "markdown",
   "metadata": {},
   "source": [
    "<h5>Atribuição de variáveis talvez seja uma das funcionalidades mais utilizadas em Python e talvez uma das mais importantes dentro da programação. Veja como fazer isso no exemplo abaixo.</h5>"
   ]
  },
  {
   "cell_type": "code",
   "execution_count": 5,
   "metadata": {},
   "outputs": [
    {
     "name": "stdout",
     "output_type": "stream",
     "text": [
      "5\n"
     ]
    }
   ],
   "source": [
    "numero = 5  #Definindo que a variável \"numero\" vale 5\n",
    "print ( numero ) "
   ]
  },
  {
   "attachments": {},
   "cell_type": "markdown",
   "metadata": {},
   "source": [
    "Nesse exemplo acima, indicamos que a variável \"numero\" possui o valor 5.\n",
    "\n",
    "_______"
   ]
  },
  {
   "attachments": {},
   "cell_type": "markdown",
   "metadata": {},
   "source": [
    "<h5>E se atribuissemos o valor de 2 para a mesma variável?</h5>"
   ]
  },
  {
   "cell_type": "code",
   "execution_count": 6,
   "metadata": {},
   "outputs": [
    {
     "name": "stdout",
     "output_type": "stream",
     "text": [
      "7\n"
     ]
    }
   ],
   "source": [
    "numero +=2\n",
    "print ( numero ) "
   ]
  },
  {
   "attachments": {},
   "cell_type": "markdown",
   "metadata": {},
   "source": [
    "Como esperado, ocorreu uma adição na variável \"numero\" com os valores estabelecidos.\n",
    "______\n",
    "\n",
    "<h5>Mas e se subtraissemos, multiplicassemos ou dividissemos?</h5>"
   ]
  },
  {
   "cell_type": "code",
   "execution_count": 7,
   "metadata": {},
   "outputs": [
    {
     "name": "stdout",
     "output_type": "stream",
     "text": [
      "Resultado da subtração: \n",
      "5\n",
      "Resultado da multiplicação: \n",
      "10\n",
      "Resultado da divisão: \n",
      "5.0\n"
     ]
    }
   ],
   "source": [
    "numero -=2 \n",
    "print(\"Resultado da subtração: \")\n",
    "print ( numero ) \n",
    "\n",
    "\n",
    "numero *=2\n",
    "print(\"Resultado da multiplicação: \")\n",
    "print ( numero )\n",
    "\n",
    "\n",
    "numero /=2\n",
    "print(\"Resultado da divisão: \")\n",
    "print ( numero )"
   ]
  },
  {
   "attachments": {},
   "cell_type": "markdown",
   "metadata": {},
   "source": [
    "<h5>Veja o resultado com a atribuição das operações de resto, divisão inteira e exponenciação</h5>"
   ]
  },
  {
   "cell_type": "code",
   "execution_count": 8,
   "metadata": {},
   "outputs": [
    {
     "name": "stdout",
     "output_type": "stream",
     "text": [
      "Resultado do resto da divisão: \n",
      "1.0\n",
      "Resultado da divisão inteira: \n",
      "2\n",
      "Resultado da exponenciação: \n",
      "25\n"
     ]
    }
   ],
   "source": [
    "\n",
    "numero %= 2\n",
    "print (\"Resultado do resto da divisão: \")\n",
    "print ( numero )\n",
    "\n",
    "numero = 5\n",
    "numero //=2\n",
    "print (\"Resultado da divisão inteira: \")\n",
    "print ( numero )\n",
    "\n",
    "numero = 5\n",
    "numero **=2\n",
    "print (\"Resultado da exponenciação: \")\n",
    "print ( numero )"
   ]
  },
  {
   "attachments": {},
   "cell_type": "markdown",
   "metadata": {},
   "source": [
    "<h5>Conclusão do capítulo: </h5>\n",
    "Neste capítulo, exploramos os operadores de atribuição em Python e compreendemos sua importância na atribuição de valores a variáveis. Através do uso do operador de atribuição (=), pudemos associar valores numéricos, textuais e booleanos a diferentes variáveis.\n",
    "\n",
    "Ao longo do capítulo, também aprendemos sobre os operadores compostos de atribuição, como \"+=\", \"-=\", \"*=\" e \"/=\", que nos permitem realizar operações aritméticas e atribuir o resultado diretamente à variável.\n",
    "\n",
    "Dominar os operadores de atribuição nos permite criar programas mais dinâmicos e flexíveis, pois podemos armazenar e atualizar valores em variáveis conforme necessário. Essa capacidade é fundamental para a manipulação de dados e cálculos em Python."
   ]
  },
  {
   "attachments": {},
   "cell_type": "markdown",
   "metadata": {},
   "source": [
    "# 3. Operadores de comparação.<a name=opComp></a>\n",
    "\n",
    "Operadores de comparação em Python são utilizados para comparar valores e retornar um resultado booleano (verdadeiro ou falso) com base na comparação realizada. Eles normalmente também podem ser muito utilizados com estruturas condicionais."
   ]
  },
  {
   "attachments": {},
   "cell_type": "markdown",
   "metadata": {},
   "source": [
    "| Operador      | Símbolo | Descrição                                                         |\n",
    "|---------------|---------|-------------------------------------------------------------------|\n",
    "| Igual a       | ==      | Verifica se dois valores são iguais.                               |\n",
    "| Diferente de  | !=      | Verifica se dois valores são diferentes.                           |\n",
    "| Maior que     | >       | Verifica se o valor da esquerda é maior que o valor da direita.    |\n",
    "| Menor que     | <       | Verifica se o valor da esquerda é menor que o valor da direita.    |\n",
    "| Maior ou igual a | >=   | Verifica se o valor da esquerda é maior ou igual ao valor da direita. |\n",
    "| Menor ou igual a | <=   | Verifica se o valor da esquerda é menor ou igual ao valor da direita. |\n"
   ]
  },
  {
   "attachments": {},
   "cell_type": "markdown",
   "metadata": {},
   "source": [
    "<h5>Vamos utilizar um exemplo culinário, vejamos.</h5>\n",
    "\n",
    "<h5>Supondo que temos dois clientes e eles querem criar um código em python para comparar suas pizzas e saber se elas são as mesmas, para fazer tal código, será necessário utilizar o operador \"Igual a\"</h5>"
   ]
  },
  {
   "cell_type": "code",
   "execution_count": 9,
   "metadata": {},
   "outputs": [
    {
     "data": {
      "text/plain": [
       "False"
      ]
     },
     "execution_count": 9,
     "metadata": {},
     "output_type": "execute_result"
    }
   ],
   "source": [
    "#  Definindo o sabor da pizza do primeiro cliente\n",
    "pizza_1 = \"Frango com Catupiry\"\n",
    "#  Definindo o sabor da pizza do segundo cliente\n",
    "pizza_2 = \"Calabresa\"\n",
    "\n",
    "#  Realizando a comparação das pizzas \n",
    "pizza_1 == pizza_2"
   ]
  },
  {
   "attachments": {},
   "cell_type": "markdown",
   "metadata": {},
   "source": [
    "Esse código pode ser traduzido como \"A pizza_1 é igual a pizza_2?\"\n",
    "\n",
    "Após a realização da comparação, os clientes puderam ter certeza de que suas pizzas não eram iguais, pois a comparação resultou em \"False\".\n",
    "___________\n",
    "\n",
    "<h5>Mas e se afirmássemos que suas pizzas são diferentes? Para isso, precisaríamos utilizar o operador \"Diferente de\", cujo símbolo é \"!=\".</h5>"
   ]
  },
  {
   "cell_type": "code",
   "execution_count": 10,
   "metadata": {},
   "outputs": [
    {
     "data": {
      "text/plain": [
       "True"
      ]
     },
     "execution_count": 10,
     "metadata": {},
     "output_type": "execute_result"
    }
   ],
   "source": [
    "#  Definindo o sabor da pizza do primeiro cliente\n",
    "pizza_1 = \"Frango com Catupiry\"\n",
    "#  Definindo o sabor da pizza do segundo cliente\n",
    "pizza_2 = \"Calabresa\"\n",
    "\n",
    "# Realizando a comparação das pizzas\n",
    "pizza_1 != pizza_2"
   ]
  },
  {
   "attachments": {},
   "cell_type": "markdown",
   "metadata": {},
   "source": [
    "\"A pizza_1 é diferente da pizza_2?\"\n",
    "\n",
    "Com essa comparação, eles puderam ter a certeza de que suas pizzas são diferentes, pois o resultado da comparação retornou \"True\".\n",
    "___________"
   ]
  },
  {
   "attachments": {},
   "cell_type": "markdown",
   "metadata": {},
   "source": [
    "<h5>Nosso cliente também está interessado em saber sobre os preços, e está tentando criar um script para verificar qual preço é menor ou maior, para isso ele precisará utilizar outros operadores de comparação. </h5>\n",
    "\n",
    "<h5>Vamos dizer que a pizza de Calabresa custa R\\$30.00 e a pizza de Frango custa \"R\\$35.00</h5>\n",
    "\n",
    "<h5>No código abaixo, iremos verificar se o valor da pizza de frango é MAIOR que a de calabresa.</h5>"
   ]
  },
  {
   "cell_type": "code",
   "execution_count": 11,
   "metadata": {},
   "outputs": [
    {
     "data": {
      "text/plain": [
       "True"
      ]
     },
     "execution_count": 11,
     "metadata": {},
     "output_type": "execute_result"
    }
   ],
   "source": [
    "pizza_calabresa = 30.00\n",
    "pizza_frango = 35.00\n",
    "\n",
    "pizza_frango > pizza_calabresa"
   ]
  },
  {
   "attachments": {},
   "cell_type": "markdown",
   "metadata": {},
   "source": [
    "Com essa comparação, é possível inferir que a Pizza de frango custa mais do que a de calabresa.\n",
    "______\n",
    "\n",
    "<h5>Mas e se quisessemos um retorno verdadeiro de qual pizza tem o menor valor? Ai teriamos que usar o operador \"Menor que\" cujo simbolo é \"<\"</h5>\n",
    "\n",
    "<h5>Por exemplo.</h5>\n"
   ]
  },
  {
   "cell_type": "code",
   "execution_count": 13,
   "metadata": {},
   "outputs": [
    {
     "data": {
      "text/plain": [
       "True"
      ]
     },
     "execution_count": 13,
     "metadata": {},
     "output_type": "execute_result"
    }
   ],
   "source": [
    "pizza_calabresa = 30.00\n",
    "pizza_frango = 35.00\n",
    "\n",
    "pizza_calabresa < pizza_frango"
   ]
  },
  {
   "attachments": {},
   "cell_type": "markdown",
   "metadata": {},
   "source": [
    "Basicamente acabamos de dizer: \"O valor da pizza de calabresa é MENOR QUE o da pizza de frango\" e seu retorno \"True\" significa que a comparação foi bem-sucedida.\n",
    "______"
   ]
  },
  {
   "attachments": {},
   "cell_type": "markdown",
   "metadata": {},
   "source": [
    "Temos outros comparadores que possuem essa mesma função porém com um adicional, eles além de verificar se é MAIOR ou MENOR, eles verificam também se o valor é IGUAL. \n",
    "\n",
    "<h5>Por exemplo, vamos dizer que o cliente não tem certeza se a pizza de Frango possui um valor maior ou igual a pizza de Calabresa e ele deseja um códígo que faça essa verificação, veja abaixo.</h5>"
   ]
  },
  {
   "cell_type": "code",
   "execution_count": 14,
   "metadata": {},
   "outputs": [
    {
     "data": {
      "text/plain": [
       "True"
      ]
     },
     "execution_count": 14,
     "metadata": {},
     "output_type": "execute_result"
    }
   ],
   "source": [
    "pizza_calabresa = 30.00\n",
    "pizza_frango = 35.00\n",
    "\n",
    "pizza_frango >= pizza_calabresa"
   ]
  },
  {
   "attachments": {},
   "cell_type": "markdown",
   "metadata": {},
   "source": [
    "Dizendo que \"A Pizza de frango possui um valor MAIOR ou IGUAL que a pizza de calabresa\" tivemos um retorno verdadeiro.\n",
    "_____\n",
    "\n",
    "<h5>Mas e o contrário, como seria a verificação se o cliente quisesse saber se o valor da pizza é MENOR ou IGUAL? Ai teriamos que usar esse código:</h5>\n"
   ]
  },
  {
   "cell_type": "code",
   "execution_count": 15,
   "metadata": {},
   "outputs": [
    {
     "data": {
      "text/plain": [
       "False"
      ]
     },
     "execution_count": 15,
     "metadata": {},
     "output_type": "execute_result"
    }
   ],
   "source": [
    "pizza_calabresa = 30.00\n",
    "pizza_frango = 35.00\n",
    "\n",
    "pizza_frango <= pizza_calabresa"
   ]
  },
  {
   "attachments": {},
   "cell_type": "markdown",
   "metadata": {},
   "source": [
    "Nesse caso tivemos um retorno de \"False\", pois a pizza de frango não possui valor MENOR ou IGUAL a pizza de calabresa. "
   ]
  },
  {
   "attachments": {},
   "cell_type": "markdown",
   "metadata": {},
   "source": [
    "<h5>Conclusão do capítulo: </h5>\n",
    "Neste capítulo, exploramos os operadores de comparação em Python e sua importância na realização de comparações lógicas entre valores. Compreendemos como esses operadores nos permitem avaliar se duas expressões são iguais, diferentes, maiores, menores, maiores ou iguais, ou menores ou iguais.\n",
    "\n",
    "Através dos operadores de comparação, podemos criar condições e tomar decisões em nossos programas com base nos resultados das comparações. Isso nos permite controlar o fluxo de execução do código, executando determinadas ações somente quando as condições especificadas forem atendidas."
   ]
  },
  {
   "attachments": {},
   "cell_type": "markdown",
   "metadata": {},
   "source": [
    "# 4.Operadores lógicos.<a name=\"opLogi\"></a>"
   ]
  },
  {
   "attachments": {},
   "cell_type": "markdown",
   "metadata": {},
   "source": [
    "Os operadores lógicos são utilizados para realizar operações de lógica booleana em expressões condicionais. Eles permitem combinar ou inverter valores booleanos (verdadeiro ou falso) para tomar decisões com base em condições."
   ]
  },
  {
   "attachments": {},
   "cell_type": "markdown",
   "metadata": {},
   "source": [
    "| Operador    | Símbolo | Descrição                                                                                  |\n",
    "|-------------|---------|--------------------------------------------------------------------------------------------|\n",
    "| E lógico    | and     | Retorna True se ambas as expressões booleanas forem verdadeiras.                           |\n",
    "| OU lógico   | or      | Retorna True se pelo menos uma das expressões booleanas for verdadeira.                     |\n",
    "| NÃO lógico  | not     | Inverte o valor booleano de uma expressão.                                                  |\n"
   ]
  },
  {
   "attachments": {},
   "cell_type": "markdown",
   "metadata": {},
   "source": [
    "<h5>Agora nós temos uma missão, o cliente deseja comprar pizzas variadas e precisamos fazer uma verificação para saber se temos essas pizzas à disposição. E para isso iremos utilizar operadores lógicos</h5>\n",
    "\n",
    "<h5>Nesse primeiro momento, ele deseja comprar duas pizzas, uma de calabresa e outra de frango.</h5>"
   ]
  },
  {
   "cell_type": "code",
   "execution_count": 19,
   "metadata": {},
   "outputs": [
    {
     "name": "stdout",
     "output_type": "stream",
     "text": [
      "True\n"
     ]
    }
   ],
   "source": [
    "Pizza_Calabresa = True\n",
    "Pizza_Frango = True\n",
    "\n",
    "print(Pizza_Calabresa and Pizza_Frango)"
   ]
  },
  {
   "attachments": {},
   "cell_type": "markdown",
   "metadata": {},
   "source": [
    "Ambas pizzas estão disponíveis, então o retorno \"True\" indica que temos tudo que precisamos para criar a pizza.\n",
    "_____\n",
    "\n",
    "<h5>Mas e se uma pizza não puder ser feita?</h5>"
   ]
  },
  {
   "cell_type": "code",
   "execution_count": 20,
   "metadata": {},
   "outputs": [
    {
     "name": "stdout",
     "output_type": "stream",
     "text": [
      "False\n"
     ]
    }
   ],
   "source": [
    "Pizza_Calabresa = False\n",
    "Pizza_Frango = True\n",
    "\n",
    "print(Pizza_Frango and Pizza_Calabresa)"
   ]
  },
  {
   "attachments": {},
   "cell_type": "markdown",
   "metadata": {},
   "source": [
    "Como a pizza de calabresa não está disponível, o operador AND não pode ser satisfeito, retornando assim \"False\" para a verificação lógica.\n",
    "______\n",
    "\n",
    "<h5>Digamos que agora nosso cliente quer comprar apenas UMA pizza e tanto faz se a pizza de Frango está disponível OU se é a de Calabresa, ele gosta de ambas. Para isso, é possível utilizar o operador \"OU\"</h5>"
   ]
  },
  {
   "cell_type": "code",
   "execution_count": 21,
   "metadata": {},
   "outputs": [
    {
     "name": "stdout",
     "output_type": "stream",
     "text": [
      "True\n"
     ]
    }
   ],
   "source": [
    "Pizza_Calabresa = False\n",
    "Pizza_Frango = True\n",
    "\n",
    "print(Pizza_Frango or Pizza_Calabresa)"
   ]
  },
  {
   "attachments": {},
   "cell_type": "markdown",
   "metadata": {},
   "source": [
    "Foi constatada que a pizza de Frango está disponível, sendo assim possível realizar a compra. \n",
    "\n",
    "____"
   ]
  },
  {
   "attachments": {},
   "cell_type": "markdown",
   "metadata": {},
   "source": [
    "O operador lógico \"NOT\" inverte os valores lógicos booleanos de uma operação\n",
    "\n",
    "<h5>Então vamos dizer que queremos inverter o operador lógico \"AND\"\n",
    "Caso ela possua duas pizzas disponíveis, ela precisa resultar em FALSO</h5>"
   ]
  },
  {
   "cell_type": "code",
   "execution_count": 8,
   "metadata": {},
   "outputs": [
    {
     "name": "stdout",
     "output_type": "stream",
     "text": [
      "False\n"
     ]
    }
   ],
   "source": [
    "Pizza_Calabresa = True\n",
    "Pizza_Frango = True\n",
    "\n",
    "print(not Pizza_Frango and Pizza_Calabresa)"
   ]
  },
  {
   "attachments": {},
   "cell_type": "markdown",
   "metadata": {},
   "source": [
    "Como o operador \"NOT\" é responsável por inverter os valores lógicos, a operação acima que resultaria em \"True\", agora resultou em False."
   ]
  },
  {
   "attachments": {},
   "cell_type": "markdown",
   "metadata": {},
   "source": [
    "<h5>Conclusão do capítulo: </h5>\n",
    "Neste capítulo, exploramos os operadores lógicos em Python e sua importância na construção de expressões lógicas complexas. Compreendemos como os operadores lógicos, como \"and\" (e), \"or\" (ou) e \"not\" (não), nos permitem combinar condições e avaliar múltiplas expressões lógicas ao mesmo tempo. "
   ]
  },
  {
   "attachments": {},
   "cell_type": "markdown",
   "metadata": {},
   "source": [
    "# 5 Operadores identidade.<a name=\"opIdent\"></a>"
   ]
  },
  {
   "attachments": {},
   "cell_type": "markdown",
   "metadata": {},
   "source": [
    "Os operadores de identidade em Python são utilizados para verificar se dois objetos têm a mesma identidade ou não. "
   ]
  },
  {
   "attachments": {},
   "cell_type": "markdown",
   "metadata": {},
   "source": [
    "| Operador         | Símbolo | Descrição                                                                    |\n",
    "|------------------|---------|------------------------------------------------------------------------------|\n",
    "| É              | is      | Retorna True se as duas variáveis referenciarem o mesmo objeto na memória.   |\n",
    "| Não é          | is not  | Retorna True se as duas variáveis referenciarem objetos diferentes na memória. |\n"
   ]
  },
  {
   "attachments": {},
   "cell_type": "markdown",
   "metadata": {},
   "source": [
    "<h5>Continuando com nosso exemplo, vamos dizer que temos duas atribuições de variáveis com o mesmo ingrediente</h5>"
   ]
  },
  {
   "cell_type": "code",
   "execution_count": 9,
   "metadata": {},
   "outputs": [
    {
     "name": "stdout",
     "output_type": "stream",
     "text": [
      "True\n"
     ]
    }
   ],
   "source": [
    "ingrediente_1 = \"queijo\"\n",
    "ingrediente_2 = \"queijo\"\n",
    "\n",
    "print(ingrediente_1 is ingrediente_2)"
   ]
  },
  {
   "attachments": {},
   "cell_type": "markdown",
   "metadata": {},
   "source": [
    "Retornou verdadeiro pois as duas variáveis possuem o mesmo valor\n",
    "______ \n",
    "\n",
    "<h5>Mas e se elas possuem um valor diferente?\n",
    "Vejamos...</h5>"
   ]
  },
  {
   "cell_type": "code",
   "execution_count": 10,
   "metadata": {},
   "outputs": [
    {
     "name": "stdout",
     "output_type": "stream",
     "text": [
      "False\n"
     ]
    }
   ],
   "source": [
    "ingrediente_1 = \"queijo\"\n",
    "ingrediente_2 = \"cebola\"\n",
    "\n",
    "print(ingrediente_1 is ingrediente_2)"
   ]
  },
  {
   "attachments": {},
   "cell_type": "markdown",
   "metadata": {},
   "source": [
    "O retorno de \"False\" prova que o ingrediente_1 não é equivalente ao ingrediente_2\n",
    "______\n",
    "\n",
    "<h5>Mas e se usassemos o \"Is not\"?</h5>"
   ]
  },
  {
   "cell_type": "code",
   "execution_count": 11,
   "metadata": {},
   "outputs": [
    {
     "name": "stdout",
     "output_type": "stream",
     "text": [
      "True\n"
     ]
    }
   ],
   "source": [
    "ingrediente_1 = \"queijo\"\n",
    "ingrediente_2 = \"cebola\"\n",
    "\n",
    "print(ingrediente_1 is not ingrediente_2)"
   ]
  },
  {
   "attachments": {},
   "cell_type": "markdown",
   "metadata": {},
   "source": [
    "Acabamos de dizer que o ingrediente_1 NÃO É o mesmo que ingrediente_2, tendo assim seu retorno \"Verdadeiro\" \n"
   ]
  },
  {
   "attachments": {},
   "cell_type": "markdown",
   "metadata": {},
   "source": [
    "<h5>Conclusão do capítulo: </h5>\n",
    "Neste capítulo, exploramos os operadores de identidade em Python e sua importância na comparação de objetos e valores. Compreendemos como os operadores \"is\" e \"is not\" nos permitem verificar se dois objetos são idênticos ou diferentes, ou se dois valores são o mesmo objeto na memória.\n",
    "\n",
    "Os operadores de identidade são úteis para comparar referências de objetos e determinar se eles apontam para a mesma localização de memória. Eles nos permitem avaliar se dois objetos são realmente o mesmo objeto ou se são apenas cópias com valores semelhantes."
   ]
  },
  {
   "attachments": {},
   "cell_type": "markdown",
   "metadata": {},
   "source": [
    "# 6. Operadores de associação.<a name=\"opAsso\"></a>"
   ]
  },
  {
   "attachments": {},
   "cell_type": "markdown",
   "metadata": {},
   "source": [
    "Os operadores de associação são utilizados para verificar se um determinado valor está presente em uma sequência, como uma lista, tupla, conjunto ou string. Os operadores de associação retornam um valor booleano, ou seja, True (verdadeiro) se a associação for verdadeira e False (falso) caso contrário. Existem dois operadores de associação em Python:"
   ]
  },
  {
   "attachments": {},
   "cell_type": "markdown",
   "metadata": {},
   "source": [
    "| Operador         | Símbolo | Descrição                                                                    |\n",
    "|------------------|---------|------------------------------------------------------------------------------|\n",
    "| Pertence a       | in      | Retorna True se um valor estiver presente em uma sequência.                  |\n",
    "| Não pertence a   | not in  | Retorna True se um valor não estiver presente em uma sequência.              |\n"
   ]
  },
  {
   "cell_type": "code",
   "execution_count": 12,
   "metadata": {},
   "outputs": [
    {
     "name": "stdout",
     "output_type": "stream",
     "text": [
      "True\n"
     ]
    }
   ],
   "source": [
    "texto = \"Verifique se a palavra AÇUCAR está presente nessa string\"\n",
    "\n",
    "print (\"AÇUCAR\" in texto)"
   ]
  },
  {
   "attachments": {},
   "cell_type": "markdown",
   "metadata": {},
   "source": [
    "Acabamos de verificar se a palavra AÇUCAR existe na string da variável texto e tivemos um retorno \"verdadeiro\" pois ela definitivamente existe\n",
    "____\n",
    "\n",
    "\n",
    "<h5>Podemos fazer a verificação para ver se ela NÃO ESTÁ\n",
    "Veja abaixo:</h5>"
   ]
  },
  {
   "cell_type": "code",
   "execution_count": 13,
   "metadata": {},
   "outputs": [
    {
     "name": "stdout",
     "output_type": "stream",
     "text": [
      "False\n"
     ]
    }
   ],
   "source": [
    "texto = \"Verificação se a palavra AÇUCAR está presente nessa string\"\n",
    "\n",
    "print (\"AÇUCAR\" not in texto)"
   ]
  },
  {
   "attachments": {},
   "cell_type": "markdown",
   "metadata": {},
   "source": [
    "Tivemos um retorno \"falso\" pois a palavra AÇUCAR existe na string"
   ]
  },
  {
   "attachments": {},
   "cell_type": "markdown",
   "metadata": {},
   "source": [
    "<h5>Conclusão do capítulo: </h5>\n",
    "Neste capítulo, exploramos os operadores de associação em Python e sua importância na verificação da presença de um valor em uma sequência. Compreendemos como os operadores \"in\" e \"not in\" nos permitem verificar se um elemento está presente em uma lista, tupla, conjunto, string ou dicionário.\n",
    "\n",
    "Os operadores de associação são úteis para a criação de condições que dependem da existência de um valor em uma sequência. Eles nos permitem verificar se um elemento faz parte de uma coleção de dados e tomar decisões com base nessa verificação."
   ]
  }
 ],
 "metadata": {
  "kernelspec": {
   "display_name": "Python 3",
   "language": "python",
   "name": "python3"
  },
  "language_info": {
   "codemirror_mode": {
    "name": "ipython",
    "version": 3
   },
   "file_extension": ".py",
   "mimetype": "text/x-python",
   "name": "python",
   "nbconvert_exporter": "python",
   "pygments_lexer": "ipython3",
   "version": "3.10.6"
  },
  "orig_nbformat": 4,
  "vscode": {
   "interpreter": {
    "hash": "916dbcbb3f70747c44a77c7bcd40155683ae19c65e1c03b4aa3499c5328201f1"
   }
  }
 },
 "nbformat": 4,
 "nbformat_minor": 2
}
