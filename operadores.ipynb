{
 "cells": [
  {
   "attachments": {},
   "cell_type": "markdown",
   "metadata": {},
   "source": [
    "#   Operadores\n",
    "\n",
    "Na programação, operadores são símbolos que instruem o interpretador a realizar manipulações matemáticas, lógicas e de comparação específicas. Portanto, podemos utilizar operadores para auxiliar ou resolver qualquer lógica exigida no código. A seguir, vamos explorar quais operadores existem em Python.\n",
    "\n"
   ]
  },
  {
   "attachments": {},
   "cell_type": "markdown",
   "metadata": {},
   "source": [
    "# 1. Operadores aritméticos.\n",
    "\n",
    "Assim como na matemática, podemos realizar operações de soma, subtração, divisão e outras. Em Python, também temos essa possibilidade de realizar diversas operações. Essas operações são essenciais para realizar cálculos e manipulações matemáticas em programas.\n",
    "\n",
    "Abaixo está a tabela com todos os operadores disponíveis.\n",
    "\n",
    "| Operador               | Símbolo | Descrição                                                                  |\n",
    "|------------------------|---------|----------------------------------------------------------------------------|\n",
    "| Adição                 | +       | Realiza a adição de dois valores ou concatenação de duas sequências.       |\n",
    "| Subtração              | -       | Realiza a subtração de dois valores.                                        |\n",
    "| Multiplicação          | *       | Realiza a multiplicação de dois valores ou duplica uma sequência.          |\n",
    "| Divisão                | /       | Realiza a divisão de dois valores.                                          |\n",
    "| Divisão inteira        | //      | Realiza a divisão de dois valores e retorna a parte inteira do resultado.   |\n",
    "| Resto da divisão       | %       | Retorna o resto da divisão entre dois valores.                              |\n",
    "| Exponenciação          | **      | Realiza a exponenciação de um valor pelo outro.                             |"
   ]
  },
  {
   "attachments": {},
   "cell_type": "markdown",
   "metadata": {},
   "source": [
    "<h5>Nesse primeiro exemplo realizaremos a Adição e a Subtração deles. </h5>\n",
    "\n",
    "Dica: A função \"print()\" é utilizada para exibir textos que auxiliam no entendimento do conteúdo. O resultado da operação será exibido na linha seguinte.\n",
    "Nos exemplos a seguir, utilizaremos os números 5 e 2.\n"
   ]
  },
  {
   "cell_type": "code",
   "execution_count": 34,
   "metadata": {},
   "outputs": [
    {
     "name": "stdout",
     "output_type": "stream",
     "text": [
      "Resultado da Adição: \n",
      "7\n",
      "Resultado da Subtração: \n",
      "3\n"
     ]
    }
   ],
   "source": [
    "print(\"Resultado da Adição: \");\n",
    "print ( 5 + 2 )\n",
    "\n",
    "\n",
    "print(\"Resultado da Subtração: \");\n",
    "print ( 5 - 2 )"
   ]
  },
  {
   "attachments": {},
   "cell_type": "markdown",
   "metadata": {},
   "source": [
    "<h5>Agora teremos a multiplicação, divisão e exponenciação. Bem simples, não é? </h5>"
   ]
  },
  {
   "cell_type": "code",
   "execution_count": 35,
   "metadata": {},
   "outputs": [
    {
     "name": "stdout",
     "output_type": "stream",
     "text": [
      "Resultado da Multiplicação: \n",
      "10\n",
      "Resultado da Divisão: \n",
      "2.5\n",
      "Resultado da Exponenciação: \n",
      "25\n"
     ]
    }
   ],
   "source": [
    "print(\"Resultado da Multiplicação: \")\n",
    "print ( 5 * 2 )\n",
    "\n",
    "\n",
    "print(\"Resultado da Divisão: \")\n",
    "print ( 5 / 2)\n",
    "\n",
    "\n",
    "print(\"Resultado da Exponenciação: \")\n",
    "print (5 ** 2)"
   ]
  },
  {
   "attachments": {},
   "cell_type": "markdown",
   "metadata": {},
   "source": [
    "<h5>Vejamos o restante das operações.</h5>"
   ]
  },
  {
   "cell_type": "code",
   "execution_count": 36,
   "metadata": {},
   "outputs": [
    {
     "name": "stdout",
     "output_type": "stream",
     "text": [
      "Resultado da Divisão Inteira\n",
      "2\n",
      "Resultado do Resto da divisão\n",
      "1\n"
     ]
    }
   ],
   "source": [
    "print(\"Resultado da Divisão Inteira: \")\n",
    "print ( 5 // 2)\n",
    "\n",
    "print(\"Resultado do Resto da divisão: \")\n",
    "print ( 5 % 2)"
   ]
  },
  {
   "attachments": {},
   "cell_type": "markdown",
   "metadata": {},
   "source": [
    "<h5>Assim como seu professor te mostrou no ensino fundamental, é possível definir uma ordem de execução nas operações e no Python também é possível fazer isso da mesma forma, utilizando parenteses na operação que desejamos que seja prioridade.Vejamos as diferenças no exemplo abaixo.</h5>"
   ]
  },
  {
   "cell_type": "code",
   "execution_count": 37,
   "metadata": {},
   "outputs": [
    {
     "name": "stdout",
     "output_type": "stream",
     "text": [
      "Resultado ANTES de definir uma ordem de prioridade\n",
      "13\n",
      "Resultado APÓS definir uma ordem de prioridade\n",
      "28\n"
     ]
    }
   ],
   "source": [
    "print (\"Resultado ANTES de definir uma ordem de prioridade: \")\n",
    "print ( 5 + 2 * 4 )\n",
    "\n",
    "\n",
    "print (\"Resultado APÓS definir uma ordem de prioridade: \")\n",
    "print ( (5 + 2) * 4 )"
   ]
  },
  {
   "attachments": {},
   "cell_type": "markdown",
   "metadata": {},
   "source": [
    "\n",
    "<h5>Neste tópico conseguimos visualizar um exemplo de todas as operações aritméticas possíveis de serem realizadas e também como conseguimos definir uma prioridade pra elas de forma que seja possível decidir em que ordem ela será executada.</h5>"
   ]
  },
  {
   "attachments": {},
   "cell_type": "markdown",
   "metadata": {},
   "source": [
    "# 2. Operadores de atribuição.\n",
    "<h5>Os operadores de atribuição atribuem valor a uma variável.</h5>\n",
    "\n",
    "\n",
    "\n",
    "| Operador               | Símbolo | Descrição                                                                  |\n",
    "|------------------------|---------|----------------------------------------------------------------------------|\n",
    "| Atribuição             | =       | Atribui um valor a uma variável.                                            |\n",
    "| Adição e atribuição    | +=      | Realiza a adição entre duas variáveis e atribui o resultado à primeira.     |\n",
    "| Subtração e atribuição | -=      | Realiza a subtração entre duas variáveis e atribui o resultado à primeira.  |\n",
    "| Multiplicação e atribuição | *=   | Realiza a multiplicação entre duas variáveis e atribui o resultado à primeira. |\n",
    "| Divisão e atribuição   | /=      | Realiza a divisão entre duas variáveis e atribui o resultado à primeira.    |\n",
    "| Divisão inteira e atribuição | //= | Realiza a divisão inteira entre duas variáveis e atribui o resultado à primeira. |\n",
    "| Resto da divisão e atribuição | %=  | Calcula o resto da divisão entre duas variáveis e atribui o resultado à primeira. |\n",
    "| Exponenciação e atribuição | **=  | Realiza a exponenciação entre duas variáveis e atribui o resultado à primeira. |"
   ]
  },
  {
   "attachments": {},
   "cell_type": "markdown",
   "metadata": {},
   "source": [
    "<h5>Atribuição de variáveis talvez seja uma das funcionalidades mais utilizadas em Python e talvez uma das mais importantes dentro da programação, vejamos como fazer isso no exemplo abaixo.</h5>"
   ]
  },
  {
   "cell_type": "code",
   "execution_count": 38,
   "metadata": {},
   "outputs": [
    {
     "name": "stdout",
     "output_type": "stream",
     "text": [
      "5\n"
     ]
    }
   ],
   "source": [
    "numero = 5  #Definindo que a variável \"numero\" vale 5\n",
    "print ( numero ) "
   ]
  },
  {
   "attachments": {},
   "cell_type": "markdown",
   "metadata": {},
   "source": [
    "<h5>E se atribuissemos o valor de 2 para a variável \"numero\"?</h5>"
   ]
  },
  {
   "cell_type": "code",
   "execution_count": 39,
   "metadata": {},
   "outputs": [
    {
     "name": "stdout",
     "output_type": "stream",
     "text": [
      "7\n"
     ]
    }
   ],
   "source": [
    "numero +=2\n",
    "print ( numero ) "
   ]
  },
  {
   "attachments": {},
   "cell_type": "markdown",
   "metadata": {},
   "source": [
    "<h5>Como esperado, ocorreu uma adição na variável \"numero\" com os valores estabelecidos, mas e se subtraissemos, multiplicassemos ou dividissemos?</h5>"
   ]
  },
  {
   "cell_type": "code",
   "execution_count": 40,
   "metadata": {},
   "outputs": [
    {
     "name": "stdout",
     "output_type": "stream",
     "text": [
      "Resultado da subtração\n",
      "5\n",
      "Resultado da multiplicação\n",
      "10\n",
      "Resultado da divisão\n",
      "5.0\n"
     ]
    }
   ],
   "source": [
    "numero -=2 \n",
    "print(\"Resultado da subtração: \")\n",
    "print ( numero ) \n",
    "\n",
    "\n",
    "numero *=2\n",
    "print(\"Resultado da multiplicação: \")\n",
    "print ( numero )\n",
    "\n",
    "\n",
    "numero /=2\n",
    "print(\"Resultado da divisão: \")\n",
    "print ( numero )"
   ]
  },
  {
   "attachments": {},
   "cell_type": "markdown",
   "metadata": {},
   "source": [
    "<h5>Veja o resultado com a atribuição das operações de resto, divisão inteira e exponenciação</h5>"
   ]
  },
  {
   "cell_type": "code",
   "execution_count": 41,
   "metadata": {},
   "outputs": [
    {
     "name": "stdout",
     "output_type": "stream",
     "text": [
      "Resultado do resto da divisão\n",
      "1.0\n",
      "Resultado da divisão inteira\n",
      "2\n",
      "Resultado da exponenciação\n",
      "25\n"
     ]
    }
   ],
   "source": [
    "\n",
    "numero %= 2\n",
    "print (\"Resultado do resto da divisão: \")\n",
    "print ( numero )\n",
    "\n",
    "numero = 5\n",
    "numero //=2\n",
    "print (\"Resultado da divisão inteira: \")\n",
    "print ( numero )\n",
    "\n",
    "numero = 5\n",
    "numero **=2\n",
    "print (\"Resultado da exponenciação: \")\n",
    "print ( numero )"
   ]
  },
  {
   "attachments": {},
   "cell_type": "markdown",
   "metadata": {},
   "source": [
    "<h4>Por exemplo</h4>"
   ]
  },
  {
   "attachments": {},
   "cell_type": "markdown",
   "metadata": {},
   "source": [
    "# 3.Operadores de comparação.\n",
    "\n",
    "Esses operadores são utilizados para comparar dois operandos, retornando valores como True e False"
   ]
  },
  {
   "attachments": {},
   "cell_type": "markdown",
   "metadata": {},
   "source": [
    "| Operador      | Símbolo | Descrição                                                         |\n",
    "|---------------|---------|-------------------------------------------------------------------|\n",
    "| Igual a       | ==      | Verifica se dois valores são iguais.                               |\n",
    "| Diferente de  | !=      | Verifica se dois valores são diferentes.                           |\n",
    "| Maior que     | >       | Verifica se o valor da esquerda é maior que o valor da direita.    |\n",
    "| Menor que     | <       | Verifica se o valor da esquerda é menor que o valor da direita.    |\n",
    "| Maior ou igual a | >=   | Verifica se o valor da esquerda é maior ou igual ao valor da direita. |\n",
    "| Menor ou igual a | <=   | Verifica se o valor da esquerda é menor ou igual ao valor da direita. |\n"
   ]
  },
  {
   "attachments": {},
   "cell_type": "markdown",
   "metadata": {},
   "source": [
    " "
   ]
  },
  {
   "cell_type": "code",
   "execution_count": 43,
   "metadata": {},
   "outputs": [
    {
     "data": {
      "text/plain": [
       "True"
      ]
     },
     "execution_count": 43,
     "metadata": {},
     "output_type": "execute_result"
    }
   ],
   "source": [
    "5 == 5"
   ]
  },
  {
   "attachments": {},
   "cell_type": "markdown",
   "metadata": {},
   "source": []
  },
  {
   "attachments": {},
   "cell_type": "markdown",
   "metadata": {},
   "source": [
    "# 4.Operadores lógicos."
   ]
  },
  {
   "attachments": {},
   "cell_type": "markdown",
   "metadata": {},
   "source": [
    "| Operador    | Símbolo | Descrição                                                                                  |\n",
    "|-------------|---------|--------------------------------------------------------------------------------------------|\n",
    "| E lógico    | and     | Retorna True se ambas as expressões booleanas forem verdadeiras.                           |\n",
    "| OU lógico   | or      | Retorna True se pelo menos uma das expressões booleanas for verdadeira.                     |\n",
    "| NÃO lógico  | not     | Inverte o valor booleano de uma expressão.                                                  |\n"
   ]
  },
  {
   "attachments": {},
   "cell_type": "markdown",
   "metadata": {},
   "source": [
    "<h4>Por exemplo</h4>"
   ]
  },
  {
   "attachments": {},
   "cell_type": "markdown",
   "metadata": {},
   "source": [
    "# 5.Operadores identidade."
   ]
  },
  {
   "attachments": {},
   "cell_type": "markdown",
   "metadata": {},
   "source": [
    "| Operador         | Símbolo | Descrição                                                                    |\n",
    "|------------------|---------|------------------------------------------------------------------------------|\n",
    "| É              | is      | Retorna True se as duas variáveis referenciarem o mesmo objeto na memória.   |\n",
    "| Não é          | is not  | Retorna True se as duas variáveis referenciarem objetos diferentes na memória. |\n"
   ]
  },
  {
   "attachments": {},
   "cell_type": "markdown",
   "metadata": {},
   "source": [
    "<h4>Por exemplo</h4>"
   ]
  },
  {
   "attachments": {},
   "cell_type": "markdown",
   "metadata": {},
   "source": [
    "# 6.Operadores de associação."
   ]
  },
  {
   "attachments": {},
   "cell_type": "markdown",
   "metadata": {},
   "source": [
    "| Operador         | Símbolo | Descrição                                                                    |\n",
    "|------------------|---------|------------------------------------------------------------------------------|\n",
    "| Pertence a       | in      | Retorna True se um valor estiver presente em uma sequência.                  |\n",
    "| Não pertence a   | not in  | Retorna True se um valor não estiver presente em uma sequência.              |\n"
   ]
  },
  {
   "attachments": {},
   "cell_type": "markdown",
   "metadata": {},
   "source": [
    "<h4>Por exemplo</h4>"
   ]
  },
  {
   "cell_type": "code",
   "execution_count": null,
   "metadata": {},
   "outputs": [],
   "source": []
  },
  {
   "cell_type": "code",
   "execution_count": null,
   "metadata": {},
   "outputs": [],
   "source": []
  }
 ],
 "metadata": {
  "kernelspec": {
   "display_name": "Python 3",
   "language": "python",
   "name": "python3"
  },
  "language_info": {
   "codemirror_mode": {
    "name": "ipython",
    "version": 3
   },
   "file_extension": ".py",
   "mimetype": "text/x-python",
   "name": "python",
   "nbconvert_exporter": "python",
   "pygments_lexer": "ipython3",
   "version": "3.10.6"
  },
  "orig_nbformat": 4,
  "vscode": {
   "interpreter": {
    "hash": "916dbcbb3f70747c44a77c7bcd40155683ae19c65e1c03b4aa3499c5328201f1"
   }
  }
 },
 "nbformat": 4,
 "nbformat_minor": 2
}
