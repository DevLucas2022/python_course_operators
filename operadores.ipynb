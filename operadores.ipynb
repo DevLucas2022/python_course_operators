{
 "cells": [
  {
   "attachments": {},
   "cell_type": "markdown",
   "metadata": {},
   "source": [
    "# 1.  Operadores\n",
    "\n",
    "Na programação, operadores são simbolos que dizem ao interpretador para realizar manipulações matemáticas,lógicas e de comparação específicas \n",
    "\n"
   ]
  },
  {
   "attachments": {},
   "cell_type": "markdown",
   "metadata": {},
   "source": [
    "<h2>Operadores aritméticos</h2>\n",
    "\n",
    "Assim como na matemática podemos realizar operações de soma, subtração, divisão e outras, em python também temos essa possibilidade\n",
    "\n",
    "| Operador               | Símbolo | Descrição                                                                  |\n",
    "|------------------------|---------|----------------------------------------------------------------------------|\n",
    "| Adição                 | +       | Realiza a adição de dois valores ou concatenação de duas sequências.       |\n",
    "| Subtração              | -       | Realiza a subtração de dois valores.                                        |\n",
    "| Multiplicação          | *       | Realiza a multiplicação de dois valores ou duplica uma sequência.          |\n",
    "| Divisão                | /       | Realiza a divisão de dois valores.                                          |\n",
    "| Divisão inteira        | //      | Realiza a divisão de dois valores e retorna a parte inteira do resultado.   |\n",
    "| Resto da divisão       | %       | Retorna o resto da divisão entre dois valores.                              |\n",
    "| Exponenciação          | **      | Realiza a exponenciação de um valor pelo outro.                             |"
   ]
  },
  {
   "attachments": {},
   "cell_type": "markdown",
   "metadata": {},
   "source": [
    "<h4>Exemplos práticos</h4>"
   ]
  },
  {
   "cell_type": "code",
   "execution_count": 5,
   "metadata": {},
   "outputs": [
    {
     "name": "stdout",
     "output_type": "stream",
     "text": [
      "9\n"
     ]
    }
   ],
   "source": [
    "print ( 5 + 4)"
   ]
  },
  {
   "cell_type": "code",
   "execution_count": 6,
   "metadata": {},
   "outputs": [
    {
     "name": "stdout",
     "output_type": "stream",
     "text": [
      "1\n"
     ]
    }
   ],
   "source": [
    "print ( 5 - 4 )"
   ]
  },
  {
   "cell_type": "code",
   "execution_count": 7,
   "metadata": {},
   "outputs": [
    {
     "name": "stdout",
     "output_type": "stream",
     "text": [
      "625\n"
     ]
    }
   ],
   "source": [
    "print ( 5 ** 4 )"
   ]
  },
  {
   "attachments": {},
   "cell_type": "markdown",
   "metadata": {},
   "source": [
    "<h2>Operadores de atribuição</h2>\n",
    "\n",
    "| Operador               | Símbolo | Descrição                                                                  |\n",
    "|------------------------|---------|----------------------------------------------------------------------------|\n",
    "| Atribuição             | =       | Atribui um valor a uma variável.                                            |\n",
    "| Adição e atribuição    | +=      | Realiza a adição entre duas variáveis e atribui o resultado à primeira.     |\n",
    "| Subtração e atribuição | -=      | Realiza a subtração entre duas variáveis e atribui o resultado à primeira.  |\n",
    "| Multiplicação e atribuição | *=   | Realiza a multiplicação entre duas variáveis e atribui o resultado à primeira. |\n",
    "| Divisão e atribuição   | /=      | Realiza a divisão entre duas variáveis e atribui o resultado à primeira.    |\n",
    "| Divisão inteira e atribuição | //= | Realiza a divisão inteira entre duas variáveis e atribui o resultado à primeira. |\n",
    "| Resto da divisão e atribuição | %=  | Calcula o resto da divisão entre duas variáveis e atribui o resultado à primeira. |\n",
    "| Exponenciação e atribuição | **=  | Realiza a exponenciação entre duas variáveis e atribui o resultado à primeira. |"
   ]
  },
  {
   "cell_type": "code",
   "execution_count": 9,
   "metadata": {},
   "outputs": [
    {
     "name": "stdout",
     "output_type": "stream",
     "text": [
      "2\n"
     ]
    }
   ],
   "source": [
    "a = 1\n",
    "a += 1 \n",
    "print (a)"
   ]
  },
  {
   "attachments": {},
   "cell_type": "markdown",
   "metadata": {},
   "source": [
    "<h4>Por exemplo</h4>"
   ]
  },
  {
   "attachments": {},
   "cell_type": "markdown",
   "metadata": {},
   "source": [
    "<h2>Operadores de comparação</h2>"
   ]
  },
  {
   "attachments": {},
   "cell_type": "markdown",
   "metadata": {},
   "source": [
    "| Operador      | Símbolo | Descrição                                                         |\n",
    "|---------------|---------|-------------------------------------------------------------------|\n",
    "| Igual a       | ==      | Verifica se dois valores são iguais.                               |\n",
    "| Diferente de  | !=      | Verifica se dois valores são diferentes.                           |\n",
    "| Maior que     | >       | Verifica se o valor da esquerda é maior que o valor da direita.    |\n",
    "| Menor que     | <       | Verifica se o valor da esquerda é menor que o valor da direita.    |\n",
    "| Maior ou igual a | >=   | Verifica se o valor da esquerda é maior ou igual ao valor da direita. |\n",
    "| Menor ou igual a | <=   | Verifica se o valor da esquerda é menor ou igual ao valor da direita. |\n"
   ]
  },
  {
   "attachments": {},
   "cell_type": "markdown",
   "metadata": {},
   "source": [
    "<h4>Por exemplo</h4>"
   ]
  },
  {
   "attachments": {},
   "cell_type": "markdown",
   "metadata": {},
   "source": [
    "<h2>Operadores lógicos</h2>"
   ]
  },
  {
   "attachments": {},
   "cell_type": "markdown",
   "metadata": {},
   "source": [
    "| Operador    | Símbolo | Descrição                                                                                  |\n",
    "|-------------|---------|--------------------------------------------------------------------------------------------|\n",
    "| E lógico    | and     | Retorna True se ambas as expressões booleanas forem verdadeiras.                           |\n",
    "| OU lógico   | or      | Retorna True se pelo menos uma das expressões booleanas for verdadeira.                     |\n",
    "| NÃO lógico  | not     | Inverte o valor booleano de uma expressão.                                                  |\n"
   ]
  },
  {
   "attachments": {},
   "cell_type": "markdown",
   "metadata": {},
   "source": [
    "<h4>Por exemplo</h4>"
   ]
  },
  {
   "attachments": {},
   "cell_type": "markdown",
   "metadata": {},
   "source": [
    "<h2>Operadores identidade</h2>"
   ]
  },
  {
   "attachments": {},
   "cell_type": "markdown",
   "metadata": {},
   "source": [
    "| Operador         | Símbolo | Descrição                                                                    |\n",
    "|------------------|---------|------------------------------------------------------------------------------|\n",
    "| É              | is      | Retorna True se as duas variáveis referenciarem o mesmo objeto na memória.   |\n",
    "| Não é          | is not  | Retorna True se as duas variáveis referenciarem objetos diferentes na memória. |\n"
   ]
  },
  {
   "attachments": {},
   "cell_type": "markdown",
   "metadata": {},
   "source": [
    "<h4>Por exemplo</h4>"
   ]
  },
  {
   "attachments": {},
   "cell_type": "markdown",
   "metadata": {},
   "source": [
    "<h2>Operadores de associação</h2>"
   ]
  },
  {
   "attachments": {},
   "cell_type": "markdown",
   "metadata": {},
   "source": [
    "| Operador         | Símbolo | Descrição                                                                    |\n",
    "|------------------|---------|------------------------------------------------------------------------------|\n",
    "| Pertence a       | in      | Retorna True se um valor estiver presente em uma sequência.                  |\n",
    "| Não pertence a   | not in  | Retorna True se um valor não estiver presente em uma sequência.              |\n"
   ]
  },
  {
   "attachments": {},
   "cell_type": "markdown",
   "metadata": {},
   "source": [
    "<h4>Por exemplo</h4>"
   ]
  },
  {
   "cell_type": "code",
   "execution_count": null,
   "metadata": {},
   "outputs": [],
   "source": []
  },
  {
   "cell_type": "code",
   "execution_count": null,
   "metadata": {},
   "outputs": [],
   "source": []
  }
 ],
 "metadata": {
  "kernelspec": {
   "display_name": "Python 3",
   "language": "python",
   "name": "python3"
  },
  "language_info": {
   "codemirror_mode": {
    "name": "ipython",
    "version": 3
   },
   "file_extension": ".py",
   "mimetype": "text/x-python",
   "name": "python",
   "nbconvert_exporter": "python",
   "pygments_lexer": "ipython3",
   "version": "3.10.6"
  },
  "orig_nbformat": 4,
  "vscode": {
   "interpreter": {
    "hash": "916dbcbb3f70747c44a77c7bcd40155683ae19c65e1c03b4aa3499c5328201f1"
   }
  }
 },
 "nbformat": 4,
 "nbformat_minor": 2
}
